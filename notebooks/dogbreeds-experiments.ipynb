{
 "cells": [
  {
   "cell_type": "code",
   "execution_count": 1,
   "metadata": {},
   "outputs": [],
   "source": [
    "%reload_ext autoreload\n",
    "%autoreload 2\n",
    "%matplotlib inline\n",
    "\n",
    "from fastai.imports import *\n",
    "from fastai.transforms import *\n",
    "from fastai.conv_learner import *\n",
    "from fastai.model import *\n",
    "from fastai.dataset import *\n",
    "from fastai.sgdr import *\n",
    "from fastai.plots import *"
   ]
  },
  {
   "cell_type": "code",
   "execution_count": 2,
   "metadata": {},
   "outputs": [],
   "source": [
    "PATH = '../data/dogbreeds/'\n",
    "sz = 224\n",
    "arch = resnext101_64\n",
    "bs = 58"
   ]
  },
  {
   "cell_type": "code",
   "execution_count": 3,
   "metadata": {},
   "outputs": [],
   "source": [
    "label_csv = f'{PATH}labels.csv'\n",
    "n = len(list(open(label_csv))) - 1\n",
    "val_idxs = get_cv_idxs(n)"
   ]
  },
  {
   "cell_type": "code",
   "execution_count": 4,
   "metadata": {},
   "outputs": [],
   "source": [
    "def get_data(sz,bs):\n",
    "    tfms = tfms_from_model(arch, sz, aug_tfms=transforms_side_on, max_zoom=1.1)\n",
    "    data = ImageClassifierData.from_csv(PATH, 'train', f'{PATH}labels.csv',\n",
    "                                        test_name='test', val_idxs=val_idxs,\n",
    "                                        suffix='.jpg', tfms=tfms, bs=bs)\n",
    "    return data if sz > 300 else data.resize(340, 'tmp')"
   ]
  },
  {
   "cell_type": "code",
   "execution_count": 5,
   "metadata": {},
   "outputs": [
    {
     "data": {
      "application/vnd.jupyter.widget-view+json": {
       "model_id": "bd3461bf59334148b75a1fbc949fa078",
       "version_major": 2,
       "version_minor": 0
      },
      "text/html": [
       "<p>Failed to display Jupyter Widget of type <code>HBox</code>.</p>\n",
       "<p>\n",
       "  If you're reading this message in the Jupyter Notebook or JupyterLab Notebook, it may mean\n",
       "  that the widgets JavaScript is still loading. If this message persists, it\n",
       "  likely means that the widgets JavaScript library is either not installed or\n",
       "  not enabled. See the <a href=\"https://ipywidgets.readthedocs.io/en/stable/user_install.html\">Jupyter\n",
       "  Widgets Documentation</a> for setup instructions.\n",
       "</p>\n",
       "<p>\n",
       "  If you're reading this message in another frontend (for example, a static\n",
       "  rendering on GitHub or <a href=\"https://nbviewer.jupyter.org/\">NBViewer</a>),\n",
       "  it may mean that your frontend doesn't currently support widgets.\n",
       "</p>\n"
      ],
      "text/plain": [
       "HBox(children=(IntProgress(value=0, max=6), HTML(value='')))"
      ]
     },
     "metadata": {},
     "output_type": "display_data"
    },
    {
     "name": "stdout",
     "output_type": "stream",
     "text": [
      "\n"
     ]
    }
   ],
   "source": [
    "data = get_data(sz,bs)"
   ]
  },
  {
   "cell_type": "code",
   "execution_count": 6,
   "metadata": {},
   "outputs": [],
   "source": [
    "learn = ConvLearner.pretrained(arch, data, precompute=True)"
   ]
  },
  {
   "cell_type": "code",
   "execution_count": 7,
   "metadata": {},
   "outputs": [
    {
     "data": {
      "application/vnd.jupyter.widget-view+json": {
       "model_id": "1805c19a03e748ba8e8745c50e010f91",
       "version_major": 2,
       "version_minor": 0
      },
      "text/html": [
       "<p>Failed to display Jupyter Widget of type <code>HBox</code>.</p>\n",
       "<p>\n",
       "  If you're reading this message in the Jupyter Notebook or JupyterLab Notebook, it may mean\n",
       "  that the widgets JavaScript is still loading. If this message persists, it\n",
       "  likely means that the widgets JavaScript library is either not installed or\n",
       "  not enabled. See the <a href=\"https://ipywidgets.readthedocs.io/en/stable/user_install.html\">Jupyter\n",
       "  Widgets Documentation</a> for setup instructions.\n",
       "</p>\n",
       "<p>\n",
       "  If you're reading this message in another frontend (for example, a static\n",
       "  rendering on GitHub or <a href=\"https://nbviewer.jupyter.org/\">NBViewer</a>),\n",
       "  it may mean that your frontend doesn't currently support widgets.\n",
       "</p>\n"
      ],
      "text/plain": [
       "HBox(children=(IntProgress(value=0, description='Epoch', max=1), HTML(value='')))"
      ]
     },
     "metadata": {},
     "output_type": "display_data"
    },
    {
     "name": "stdout",
     "output_type": "stream",
     "text": [
      " 83%|████████▎ | 117/141 [00:02<00:00, 49.23it/s, loss=10.5]\n",
      "                                                            \r"
     ]
    }
   ],
   "source": [
    "lrf=learn.lr_find()"
   ]
  },
  {
   "cell_type": "code",
   "execution_count": 8,
   "metadata": {},
   "outputs": [
    {
     "data": {
      "image/png": "[encoded data removed]",
      "text/plain": [
       "<matplotlib.figure.Figure at 0x7f83c8224f28>"
      ]
     },
     "metadata": {},
     "output_type": "display_data"
    }
   ],
   "source": [
    "learn.sched.plot()\n",
    "plt.axvline(x=5e-2, color=\"red\");"
   ]
  },
  {
   "cell_type": "code",
   "execution_count": 9,
   "metadata": {},
   "outputs": [
    {
     "data": {
      "application/vnd.jupyter.widget-view+json": {
       "model_id": "c5b4a5aee4714128aa5747b88e8ea431",
       "version_major": 2,
       "version_minor": 0
      },
      "text/html": [
       "<p>Failed to display Jupyter Widget of type <code>HBox</code>.</p>\n",
       "<p>\n",
       "  If you're reading this message in the Jupyter Notebook or JupyterLab Notebook, it may mean\n",
       "  that the widgets JavaScript is still loading. If this message persists, it\n",
       "  likely means that the widgets JavaScript library is either not installed or\n",
       "  not enabled. See the <a href=\"https://ipywidgets.readthedocs.io/en/stable/user_install.html\">Jupyter\n",
       "  Widgets Documentation</a> for setup instructions.\n",
       "</p>\n",
       "<p>\n",
       "  If you're reading this message in another frontend (for example, a static\n",
       "  rendering on GitHub or <a href=\"https://nbviewer.jupyter.org/\">NBViewer</a>),\n",
       "  it may mean that your frontend doesn't currently support widgets.\n",
       "</p>\n"
      ],
      "text/plain": [
       "HBox(children=(IntProgress(value=0, description='Epoch', max=5), HTML(value='')))"
      ]
     },
     "metadata": {},
     "output_type": "display_data"
    },
    {
     "name": "stdout",
     "output_type": "stream",
     "text": [
      "epoch      trn_loss   val_loss   accuracy                    \n",
      "    0      0.715795   0.421999   0.883142  \n",
      "    1      0.396208   0.431458   0.891626                    \n",
      "    2      0.274169   0.3415     0.904215                    \n",
      "    3      0.203836   0.31197    0.911398                    \n",
      "    4      0.162242   0.424805   0.909004                    \n",
      "\n"
     ]
    },
    {
     "data": {
      "text/plain": [
       "[0.424805, 0.9090038355853822]"
      ]
     },
     "execution_count": 9,
     "metadata": {},
     "output_type": "execute_result"
    }
   ],
   "source": [
    "learn.fit(1e-1, 5)"
   ]
  },
  {
   "cell_type": "code",
   "execution_count": 6,
   "metadata": {},
   "outputs": [
    {
     "data": {
      "application/vnd.jupyter.widget-view+json": {
       "model_id": "f371250346404985af91b7868a1268e5",
       "version_major": 2,
       "version_minor": 0
      },
      "text/html": [
       "<p>Failed to display Jupyter Widget of type <code>HBox</code>.</p>\n",
       "<p>\n",
       "  If you're reading this message in the Jupyter Notebook or JupyterLab Notebook, it may mean\n",
       "  that the widgets JavaScript is still loading. If this message persists, it\n",
       "  likely means that the widgets JavaScript library is either not installed or\n",
       "  not enabled. See the <a href=\"https://ipywidgets.readthedocs.io/en/stable/user_install.html\">Jupyter\n",
       "  Widgets Documentation</a> for setup instructions.\n",
       "</p>\n",
       "<p>\n",
       "  If you're reading this message in another frontend (for example, a static\n",
       "  rendering on GitHub or <a href=\"https://nbviewer.jupyter.org/\">NBViewer</a>),\n",
       "  it may mean that your frontend doesn't currently support widgets.\n",
       "</p>\n"
      ],
      "text/plain": [
       "HBox(children=(IntProgress(value=0, max=6), HTML(value='')))"
      ]
     },
     "metadata": {},
     "output_type": "display_data"
    },
    {
     "name": "stdout",
     "output_type": "stream",
     "text": [
      "\n",
      "100%|██████████| 141/141 [03:16<00:00,  1.39s/it]\n",
      "100%|██████████| 36/36 [00:48<00:00,  1.36s/it]\n"
     ]
    }
   ],
   "source": [
    "data = get_data(sz,bs)\n",
    "learn = ConvLearner.pretrained(arch, data, precompute=True, ps=0.5)"
   ]
  },
  {
   "cell_type": "code",
   "execution_count": 20,
   "metadata": {},
   "outputs": [
    {
     "data": {
      "application/vnd.jupyter.widget-view+json": {
       "model_id": "d428b7247c074434a2c2e7355bee2530",
       "version_major": 2,
       "version_minor": 0
      },
      "text/html": [
       "<p>Failed to display Jupyter Widget of type <code>HBox</code>.</p>\n",
       "<p>\n",
       "  If you're reading this message in the Jupyter Notebook or JupyterLab Notebook, it may mean\n",
       "  that the widgets JavaScript is still loading. If this message persists, it\n",
       "  likely means that the widgets JavaScript library is either not installed or\n",
       "  not enabled. See the <a href=\"https://ipywidgets.readthedocs.io/en/stable/user_install.html\">Jupyter\n",
       "  Widgets Documentation</a> for setup instructions.\n",
       "</p>\n",
       "<p>\n",
       "  If you're reading this message in another frontend (for example, a static\n",
       "  rendering on GitHub or <a href=\"https://nbviewer.jupyter.org/\">NBViewer</a>),\n",
       "  it may mean that your frontend doesn't currently support widgets.\n",
       "</p>\n"
      ],
      "text/plain": [
       "HBox(children=(IntProgress(value=0, description='Epoch', max=1), HTML(value='')))"
      ]
     },
     "metadata": {},
     "output_type": "display_data"
    },
    {
     "name": "stdout",
     "output_type": "stream",
     "text": [
      " 88%|████████▊ | 124/141 [00:01<00:00, 65.43it/s, loss=11.7]\n",
      "                                                            \r"
     ]
    },
    {
     "data": {
      "image/png": "[encoded data removed]",
      "text/plain": [
       "<matplotlib.figure.Figure at 0x7f83c8371240>"
      ]
     },
     "metadata": {},
     "output_type": "display_data"
    }
   ],
   "source": [
    "lrf=learn.lr_find()\n",
    "learn.sched.plot()\n",
    "plt.axvline(x=1e-1, color=\"red\");"
   ]
  },
  {
   "cell_type": "code",
   "execution_count": 10,
   "metadata": {},
   "outputs": [
    {
     "data": {
      "application/vnd.jupyter.widget-view+json": {
       "model_id": "db0129cf067441289330148fdecb84a9",
       "version_major": 2,
       "version_minor": 0
      },
      "text/html": [
       "<p>Failed to display Jupyter Widget of type <code>HBox</code>.</p>\n",
       "<p>\n",
       "  If you're reading this message in the Jupyter Notebook or JupyterLab Notebook, it may mean\n",
       "  that the widgets JavaScript is still loading. If this message persists, it\n",
       "  likely means that the widgets JavaScript library is either not installed or\n",
       "  not enabled. See the <a href=\"https://ipywidgets.readthedocs.io/en/stable/user_install.html\">Jupyter\n",
       "  Widgets Documentation</a> for setup instructions.\n",
       "</p>\n",
       "<p>\n",
       "  If you're reading this message in another frontend (for example, a static\n",
       "  rendering on GitHub or <a href=\"https://nbviewer.jupyter.org/\">NBViewer</a>),\n",
       "  it may mean that your frontend doesn't currently support widgets.\n",
       "</p>\n"
      ],
      "text/plain": [
       "HBox(children=(IntProgress(value=0, max=6), HTML(value='')))"
      ]
     },
     "metadata": {},
     "output_type": "display_data"
    },
    {
     "name": "stdout",
     "output_type": "stream",
     "text": [
      "\n"
     ]
    },
    {
     "data": {
      "application/vnd.jupyter.widget-view+json": {
       "model_id": "466f1a6e410d448f981ca63688026f27",
       "version_major": 2,
       "version_minor": 0
      },
      "text/html": [
       "<p>Failed to display Jupyter Widget of type <code>HBox</code>.</p>\n",
       "<p>\n",
       "  If you're reading this message in the Jupyter Notebook or JupyterLab Notebook, it may mean\n",
       "  that the widgets JavaScript is still loading. If this message persists, it\n",
       "  likely means that the widgets JavaScript library is either not installed or\n",
       "  not enabled. See the <a href=\"https://ipywidgets.readthedocs.io/en/stable/user_install.html\">Jupyter\n",
       "  Widgets Documentation</a> for setup instructions.\n",
       "</p>\n",
       "<p>\n",
       "  If you're reading this message in another frontend (for example, a static\n",
       "  rendering on GitHub or <a href=\"https://nbviewer.jupyter.org/\">NBViewer</a>),\n",
       "  it may mean that your frontend doesn't currently support widgets.\n",
       "</p>\n"
      ],
      "text/plain": [
       "HBox(children=(IntProgress(value=0, description='Epoch', max=2), HTML(value='')))"
      ]
     },
     "metadata": {},
     "output_type": "display_data"
    },
    {
     "name": "stdout",
     "output_type": "stream",
     "text": [
      "epoch      trn_loss   val_loss   accuracy                    \n",
      "    0      0.758626   0.423221   0.889368  \n",
      "    1      0.503891   0.332304   0.905172                    \n",
      "\n"
     ]
    },
    {
     "data": {
      "text/plain": [
       "[0.33230352, 0.9051724175612131]"
      ]
     },
     "execution_count": 10,
     "metadata": {},
     "output_type": "execute_result"
    }
   ],
   "source": [
    "learn.fit(1e-1, 2)"
   ]
  },
  {
   "cell_type": "code",
   "execution_count": 7,
   "metadata": {},
   "outputs": [],
   "source": [
    "learn.precompute=False"
   ]
  },
  {
   "cell_type": "code",
   "execution_count": 11,
   "metadata": {},
   "outputs": [
    {
     "data": {
      "application/vnd.jupyter.widget-view+json": {
       "model_id": "d693dd6615aa419c8846e347d41a380e",
       "version_major": 2,
       "version_minor": 0
      },
      "text/html": [
       "<p>Failed to display Jupyter Widget of type <code>HBox</code>.</p>\n",
       "<p>\n",
       "  If you're reading this message in the Jupyter Notebook or JupyterLab Notebook, it may mean\n",
       "  that the widgets JavaScript is still loading. If this message persists, it\n",
       "  likely means that the widgets JavaScript library is either not installed or\n",
       "  not enabled. See the <a href=\"https://ipywidgets.readthedocs.io/en/stable/user_install.html\">Jupyter\n",
       "  Widgets Documentation</a> for setup instructions.\n",
       "</p>\n",
       "<p>\n",
       "  If you're reading this message in another frontend (for example, a static\n",
       "  rendering on GitHub or <a href=\"https://nbviewer.jupyter.org/\">NBViewer</a>),\n",
       "  it may mean that your frontend doesn't currently support widgets.\n",
       "</p>\n"
      ],
      "text/plain": [
       "HBox(children=(IntProgress(value=0, description='Epoch', max=5), HTML(value='')))"
      ]
     },
     "metadata": {},
     "output_type": "display_data"
    },
    {
     "name": "stdout",
     "output_type": "stream",
     "text": [
      "epoch      trn_loss   val_loss   accuracy                    \n",
      "    0      0.350678   0.252257   0.922414  \n",
      "    1      0.321496   0.253182   0.921935                    \n",
      "    2      0.272586   0.256399   0.920977                    \n",
      "    3      0.26826    0.247527   0.924808                    \n",
      "    4      0.258099   0.253025   0.92433                     \n",
      "\n"
     ]
    },
    {
     "data": {
      "text/plain": [
       "[0.25302458, 0.9243295010593202]"
      ]
     },
     "execution_count": 11,
     "metadata": {},
     "output_type": "execute_result"
    }
   ],
   "source": [
    "learn.fit(1e-1, 5, cycle_len=1)"
   ]
  },
  {
   "cell_type": "code",
   "execution_count": 12,
   "metadata": {},
   "outputs": [],
   "source": [
    "learn.save('224_pre_lr-1e1')"
   ]
  },
  {
   "cell_type": "code",
   "execution_count": 39,
   "metadata": {},
   "outputs": [],
   "source": [
    "learn.load('224_pre_lr-1e1')"
   ]
  },
  {
   "cell_type": "code",
   "execution_count": 7,
   "metadata": {},
   "outputs": [
    {
     "data": {
      "application/vnd.jupyter.widget-view+json": {
       "model_id": "5c852462325649918f317576d15eb815",
       "version_major": 2,
       "version_minor": 0
      },
      "text/html": [
       "<p>Failed to display Jupyter Widget of type <code>HBox</code>.</p>\n",
       "<p>\n",
       "  If you're reading this message in the Jupyter Notebook or JupyterLab Notebook, it may mean\n",
       "  that the widgets JavaScript is still loading. If this message persists, it\n",
       "  likely means that the widgets JavaScript library is either not installed or\n",
       "  not enabled. See the <a href=\"https://ipywidgets.readthedocs.io/en/stable/user_install.html\">Jupyter\n",
       "  Widgets Documentation</a> for setup instructions.\n",
       "</p>\n",
       "<p>\n",
       "  If you're reading this message in another frontend (for example, a static\n",
       "  rendering on GitHub or <a href=\"https://nbviewer.jupyter.org/\">NBViewer</a>),\n",
       "  it may mean that your frontend doesn't currently support widgets.\n",
       "</p>\n"
      ],
      "text/plain": [
       "HBox(children=(IntProgress(value=0, max=6), HTML(value='')))"
      ]
     },
     "metadata": {},
     "output_type": "display_data"
    },
    {
     "name": "stdout",
     "output_type": "stream",
     "text": [
      "\n"
     ]
    }
   ],
   "source": [
    "learn.set_data(get_data(299, bs))"
   ]
  },
  {
   "cell_type": "code",
   "execution_count": 45,
   "metadata": {},
   "outputs": [],
   "source": [
    "learn.load('299_pre_2')"
   ]
  },
  {
   "cell_type": "code",
   "execution_count": 46,
   "metadata": {},
   "outputs": [
    {
     "data": {
      "application/vnd.jupyter.widget-view+json": {
       "model_id": "438b1aa7a58b47a5b6eca5c7e1edb300",
       "version_major": 2,
       "version_minor": 0
      },
      "text/html": [
       "<p>Failed to display Jupyter Widget of type <code>HBox</code>.</p>\n",
       "<p>\n",
       "  If you're reading this message in the Jupyter Notebook or JupyterLab Notebook, it may mean\n",
       "  that the widgets JavaScript is still loading. If this message persists, it\n",
       "  likely means that the widgets JavaScript library is either not installed or\n",
       "  not enabled. See the <a href=\"https://ipywidgets.readthedocs.io/en/stable/user_install.html\">Jupyter\n",
       "  Widgets Documentation</a> for setup instructions.\n",
       "</p>\n",
       "<p>\n",
       "  If you're reading this message in another frontend (for example, a static\n",
       "  rendering on GitHub or <a href=\"https://nbviewer.jupyter.org/\">NBViewer</a>),\n",
       "  it may mean that your frontend doesn't currently support widgets.\n",
       "</p>\n"
      ],
      "text/plain": [
       "HBox(children=(IntProgress(value=0, description='Epoch', max=2), HTML(value='')))"
      ]
     },
     "metadata": {},
     "output_type": "display_data"
    },
    {
     "name": "stdout",
     "output_type": "stream",
     "text": [
      "epoch      trn_loss   val_loss   accuracy                    \n",
      "    0      0.213105   0.214129   0.929119  \n",
      "    1      0.19243    0.209936   0.931992                    \n",
      "\n"
     ]
    },
    {
     "data": {
      "text/plain": [
       "[0.20993558, 0.9319923420747122]"
      ]
     },
     "execution_count": 46,
     "metadata": {},
     "output_type": "execute_result"
    }
   ],
   "source": [
    "learn.fit(1e-2, 1, cycle_len=2)"
   ]
  },
  {
   "cell_type": "code",
   "execution_count": 51,
   "metadata": {},
   "outputs": [
    {
     "data": {
      "application/vnd.jupyter.widget-view+json": {
       "model_id": "6b76d7dc86c04d30bc74dee5dc122687",
       "version_major": 2,
       "version_minor": 0
      },
      "text/html": [
       "<p>Failed to display Jupyter Widget of type <code>HBox</code>.</p>\n",
       "<p>\n",
       "  If you're reading this message in the Jupyter Notebook or JupyterLab Notebook, it may mean\n",
       "  that the widgets JavaScript is still loading. If this message persists, it\n",
       "  likely means that the widgets JavaScript library is either not installed or\n",
       "  not enabled. See the <a href=\"https://ipywidgets.readthedocs.io/en/stable/user_install.html\">Jupyter\n",
       "  Widgets Documentation</a> for setup instructions.\n",
       "</p>\n",
       "<p>\n",
       "  If you're reading this message in another frontend (for example, a static\n",
       "  rendering on GitHub or <a href=\"https://nbviewer.jupyter.org/\">NBViewer</a>),\n",
       "  it may mean that your frontend doesn't currently support widgets.\n",
       "</p>\n"
      ],
      "text/plain": [
       "HBox(children=(IntProgress(value=0, description='Epoch', max=2), HTML(value='')))"
      ]
     },
     "metadata": {},
     "output_type": "display_data"
    },
    {
     "name": "stdout",
     "output_type": "stream",
     "text": [
      "epoch      trn_loss   val_loss   accuracy                    \n",
      "    0      0.196547   0.209361   0.931992  \n",
      "    1      0.184407   0.208242   0.929598                    \n",
      "\n"
     ]
    },
    {
     "data": {
      "text/plain": [
       "[0.20824182, 0.929597708914015]"
      ]
     },
     "execution_count": 51,
     "metadata": {},
     "output_type": "execute_result"
    }
   ],
   "source": [
    "learn.fit(1e-2, 1, cycle_len=2)"
   ]
  },
  {
   "cell_type": "code",
   "execution_count": 52,
   "metadata": {},
   "outputs": [],
   "source": [
    "learn.save('299_pre_3')"
   ]
  },
  {
   "cell_type": "code",
   "execution_count": 53,
   "metadata": {},
   "outputs": [
    {
     "name": "stdout",
     "output_type": "stream",
     "text": [
      "CPU times: user 7min 50s, sys: 35.2 s, total: 8min 25s\n",
      "Wall time: 7min 14s\n"
     ]
    }
   ],
   "source": [
    "%%time\n",
    "test = learn.predict(is_test=True)"
   ]
  },
  {
   "cell_type": "code",
   "execution_count": 54,
   "metadata": {},
   "outputs": [],
   "source": [
    "columns = pd.read_csv(f'{PATH}sample_submission.csv', index_col='id').columns\n",
    "test = pd.DataFrame(np.exp(test))\n",
    "test.columns = columns\n",
    "test.index = [i.split('.jpg')[0].split('/')[-1] for i in data.test_dl.dataset.fnames]\n",
    "test.index.name ='id'\n",
    "test.to_csv(f'{PATH}submission3.csv')"
   ]
  },
  {
   "cell_type": "code",
   "execution_count": 55,
   "metadata": {},
   "outputs": [
    {
     "data": {
      "text/html": [
       "<div>\n",
       "<style scoped>\n",
       "    .dataframe tbody tr th:only-of-type {\n",
       "        vertical-align: middle;\n",
       "    }\n",
       "\n",
       "    .dataframe tbody tr th {\n",
       "        vertical-align: top;\n",
       "    }\n",
       "\n",
       "    .dataframe thead th {\n",
       "        text-align: right;\n",
       "    }\n",
       "</style>\n",
       "<table border=\"1\" class=\"dataframe\">\n",
       "  <thead>\n",
       "    <tr style=\"text-align: right;\">\n",
       "      <th></th>\n",
       "      <th>id</th>\n",
       "      <th>affenpinscher</th>\n",
       "      <th>afghan_hound</th>\n",
       "      <th>african_hunting_dog</th>\n",
       "      <th>airedale</th>\n",
       "      <th>american_staffordshire_terrier</th>\n",
       "      <th>appenzeller</th>\n",
       "      <th>australian_terrier</th>\n",
       "      <th>basenji</th>\n",
       "      <th>basset</th>\n",
       "      <th>...</th>\n",
       "      <th>toy_poodle</th>\n",
       "      <th>toy_terrier</th>\n",
       "      <th>vizsla</th>\n",
       "      <th>walker_hound</th>\n",
       "      <th>weimaraner</th>\n",
       "      <th>welsh_springer_spaniel</th>\n",
       "      <th>west_highland_white_terrier</th>\n",
       "      <th>whippet</th>\n",
       "      <th>wire-haired_fox_terrier</th>\n",
       "      <th>yorkshire_terrier</th>\n",
       "    </tr>\n",
       "  </thead>\n",
       "  <tbody>\n",
       "    <tr>\n",
       "      <th>0</th>\n",
       "      <td>de084b830010b6107215fef5d4a75b94</td>\n",
       "      <td>1.043266e-06</td>\n",
       "      <td>8.584272e-06</td>\n",
       "      <td>2.365846e-07</td>\n",
       "      <td>3.530921e-07</td>\n",
       "      <td>3.883167e-08</td>\n",
       "      <td>3.278479e-08</td>\n",
       "      <td>1.146113e-07</td>\n",
       "      <td>1.042849e-07</td>\n",
       "      <td>7.658031e-08</td>\n",
       "      <td>...</td>\n",
       "      <td>6.135443e-09</td>\n",
       "      <td>1.990608e-08</td>\n",
       "      <td>8.425136e-08</td>\n",
       "      <td>9.060479e-08</td>\n",
       "      <td>4.373770e-07</td>\n",
       "      <td>5.089899e-08</td>\n",
       "      <td>4.680950e-07</td>\n",
       "      <td>5.182781e-06</td>\n",
       "      <td>5.592763e-08</td>\n",
       "      <td>4.684762e-08</td>\n",
       "    </tr>\n",
       "    <tr>\n",
       "      <th>1</th>\n",
       "      <td>6b423ca7020e70eb05732843c5d2bad1</td>\n",
       "      <td>5.899580e-08</td>\n",
       "      <td>4.197802e-07</td>\n",
       "      <td>6.221638e-08</td>\n",
       "      <td>4.052236e-08</td>\n",
       "      <td>8.375750e-09</td>\n",
       "      <td>5.034674e-10</td>\n",
       "      <td>2.210212e-08</td>\n",
       "      <td>2.218316e-09</td>\n",
       "      <td>3.001973e-08</td>\n",
       "      <td>...</td>\n",
       "      <td>1.072871e-09</td>\n",
       "      <td>1.813796e-09</td>\n",
       "      <td>1.566746e-09</td>\n",
       "      <td>2.451213e-09</td>\n",
       "      <td>3.113831e-09</td>\n",
       "      <td>1.853989e-08</td>\n",
       "      <td>1.320946e-06</td>\n",
       "      <td>5.411601e-08</td>\n",
       "      <td>1.843999e-07</td>\n",
       "      <td>3.702735e-09</td>\n",
       "    </tr>\n",
       "    <tr>\n",
       "      <th>2</th>\n",
       "      <td>74aa7e201e0e93e13e87b986a7d31839</td>\n",
       "      <td>1.127665e-05</td>\n",
       "      <td>3.927221e-06</td>\n",
       "      <td>5.710962e-06</td>\n",
       "      <td>2.413565e-03</td>\n",
       "      <td>1.568055e-05</td>\n",
       "      <td>2.461584e-06</td>\n",
       "      <td>2.505439e-05</td>\n",
       "      <td>4.552790e-06</td>\n",
       "      <td>4.916668e-06</td>\n",
       "      <td>...</td>\n",
       "      <td>9.679588e-06</td>\n",
       "      <td>1.419192e-05</td>\n",
       "      <td>3.958216e-06</td>\n",
       "      <td>7.375819e-06</td>\n",
       "      <td>4.614512e-06</td>\n",
       "      <td>3.037656e-05</td>\n",
       "      <td>7.139282e-06</td>\n",
       "      <td>4.294517e-06</td>\n",
       "      <td>3.255562e-01</td>\n",
       "      <td>2.524007e-06</td>\n",
       "    </tr>\n",
       "    <tr>\n",
       "      <th>3</th>\n",
       "      <td>a079f72193264bc5685e5d28d7372680</td>\n",
       "      <td>8.992286e-06</td>\n",
       "      <td>4.340552e-07</td>\n",
       "      <td>1.753953e-06</td>\n",
       "      <td>3.533281e-06</td>\n",
       "      <td>4.557805e-07</td>\n",
       "      <td>5.528723e-08</td>\n",
       "      <td>6.410930e-06</td>\n",
       "      <td>5.235032e-07</td>\n",
       "      <td>3.597496e-06</td>\n",
       "      <td>...</td>\n",
       "      <td>2.479884e-07</td>\n",
       "      <td>4.076298e-06</td>\n",
       "      <td>1.998111e-06</td>\n",
       "      <td>1.431883e-07</td>\n",
       "      <td>1.244616e-06</td>\n",
       "      <td>1.818170e-06</td>\n",
       "      <td>1.827719e-05</td>\n",
       "      <td>3.754931e-07</td>\n",
       "      <td>4.562243e-04</td>\n",
       "      <td>3.548187e-05</td>\n",
       "    </tr>\n",
       "    <tr>\n",
       "      <th>4</th>\n",
       "      <td>583f7580fa5fec1266331fcf83b76fd6</td>\n",
       "      <td>1.114707e-07</td>\n",
       "      <td>7.462274e-09</td>\n",
       "      <td>2.331897e-10</td>\n",
       "      <td>6.900982e-07</td>\n",
       "      <td>1.487036e-09</td>\n",
       "      <td>3.047590e-08</td>\n",
       "      <td>8.756357e-09</td>\n",
       "      <td>6.525866e-09</td>\n",
       "      <td>3.792325e-11</td>\n",
       "      <td>...</td>\n",
       "      <td>1.644232e-09</td>\n",
       "      <td>7.306351e-09</td>\n",
       "      <td>4.897759e-11</td>\n",
       "      <td>4.886750e-10</td>\n",
       "      <td>1.496594e-09</td>\n",
       "      <td>4.778963e-09</td>\n",
       "      <td>7.017044e-10</td>\n",
       "      <td>1.624698e-09</td>\n",
       "      <td>5.607744e-06</td>\n",
       "      <td>3.504883e-09</td>\n",
       "    </tr>\n",
       "  </tbody>\n",
       "</table>\n",
       "<p>5 rows × 121 columns</p>\n",
       "</div>"
      ],
      "text/plain": [
       "                                 id  affenpinscher  afghan_hound  \\\n",
       "0  de084b830010b6107215fef5d4a75b94   1.043266e-06  8.584272e-06   \n",
       "1  6b423ca7020e70eb05732843c5d2bad1   5.899580e-08  4.197802e-07   \n",
       "2  74aa7e201e0e93e13e87b986a7d31839   1.127665e-05  3.927221e-06   \n",
       "3  a079f72193264bc5685e5d28d7372680   8.992286e-06  4.340552e-07   \n",
       "4  583f7580fa5fec1266331fcf83b76fd6   1.114707e-07  7.462274e-09   \n",
       "\n",
       "   african_hunting_dog      airedale  american_staffordshire_terrier  \\\n",
       "0         2.365846e-07  3.530921e-07                    3.883167e-08   \n",
       "1         6.221638e-08  4.052236e-08                    8.375750e-09   \n",
       "2         5.710962e-06  2.413565e-03                    1.568055e-05   \n",
       "3         1.753953e-06  3.533281e-06                    4.557805e-07   \n",
       "4         2.331897e-10  6.900982e-07                    1.487036e-09   \n",
       "\n",
       "    appenzeller  australian_terrier       basenji        basset  \\\n",
       "0  3.278479e-08        1.146113e-07  1.042849e-07  7.658031e-08   \n",
       "1  5.034674e-10        2.210212e-08  2.218316e-09  3.001973e-08   \n",
       "2  2.461584e-06        2.505439e-05  4.552790e-06  4.916668e-06   \n",
       "3  5.528723e-08        6.410930e-06  5.235032e-07  3.597496e-06   \n",
       "4  3.047590e-08        8.756357e-09  6.525866e-09  3.792325e-11   \n",
       "\n",
       "         ...            toy_poodle   toy_terrier        vizsla  walker_hound  \\\n",
       "0        ...          6.135443e-09  1.990608e-08  8.425136e-08  9.060479e-08   \n",
       "1        ...          1.072871e-09  1.813796e-09  1.566746e-09  2.451213e-09   \n",
       "2        ...          9.679588e-06  1.419192e-05  3.958216e-06  7.375819e-06   \n",
       "3        ...          2.479884e-07  4.076298e-06  1.998111e-06  1.431883e-07   \n",
       "4        ...          1.644232e-09  7.306351e-09  4.897759e-11  4.886750e-10   \n",
       "\n",
       "     weimaraner  welsh_springer_spaniel  west_highland_white_terrier  \\\n",
       "0  4.373770e-07            5.089899e-08                 4.680950e-07   \n",
       "1  3.113831e-09            1.853989e-08                 1.320946e-06   \n",
       "2  4.614512e-06            3.037656e-05                 7.139282e-06   \n",
       "3  1.244616e-06            1.818170e-06                 1.827719e-05   \n",
       "4  1.496594e-09            4.778963e-09                 7.017044e-10   \n",
       "\n",
       "        whippet  wire-haired_fox_terrier  yorkshire_terrier  \n",
       "0  5.182781e-06             5.592763e-08       4.684762e-08  \n",
       "1  5.411601e-08             1.843999e-07       3.702735e-09  \n",
       "2  4.294517e-06             3.255562e-01       2.524007e-06  \n",
       "3  3.754931e-07             4.562243e-04       3.548187e-05  \n",
       "4  1.624698e-09             5.607744e-06       3.504883e-09  \n",
       "\n",
       "[5 rows x 121 columns]"
      ]
     },
     "execution_count": 55,
     "metadata": {},
     "output_type": "execute_result"
    }
   ],
   "source": [
    "pd.read_csv(f'{PATH}submission3.csv').head()"
   ]
  },
  {
   "cell_type": "code",
   "execution_count": null,
   "metadata": {},
   "outputs": [],
   "source": []
  },
  {
   "cell_type": "code",
   "execution_count": null,
   "metadata": {},
   "outputs": [],
   "source": []
  },
  {
   "cell_type": "code",
   "execution_count": null,
   "metadata": {},
   "outputs": [],
   "source": []
  },
  {
   "cell_type": "code",
   "execution_count": 9,
   "metadata": {},
   "outputs": [
    {
     "data": {
      "application/vnd.jupyter.widget-view+json": {
       "model_id": "ffe60dd775624935bfc82f2e74ae28ea",
       "version_major": 2,
       "version_minor": 0
      },
      "text/html": [
       "<p>Failed to display Jupyter Widget of type <code>HBox</code>.</p>\n",
       "<p>\n",
       "  If you're reading this message in the Jupyter Notebook or JupyterLab Notebook, it may mean\n",
       "  that the widgets JavaScript is still loading. If this message persists, it\n",
       "  likely means that the widgets JavaScript library is either not installed or\n",
       "  not enabled. See the <a href=\"https://ipywidgets.readthedocs.io/en/stable/user_install.html\">Jupyter\n",
       "  Widgets Documentation</a> for setup instructions.\n",
       "</p>\n",
       "<p>\n",
       "  If you're reading this message in another frontend (for example, a static\n",
       "  rendering on GitHub or <a href=\"https://nbviewer.jupyter.org/\">NBViewer</a>),\n",
       "  it may mean that your frontend doesn't currently support widgets.\n",
       "</p>\n"
      ],
      "text/plain": [
       "HBox(children=(IntProgress(value=0, max=6), HTML(value='')))"
      ]
     },
     "metadata": {},
     "output_type": "display_data"
    },
    {
     "name": "stdout",
     "output_type": "stream",
     "text": [
      "\n"
     ]
    }
   ],
   "source": [
    "learn.set_data(get_data(299, bs))"
   ]
  },
  {
   "cell_type": "code",
   "execution_count": 10,
   "metadata": {},
   "outputs": [
    {
     "data": {
      "application/vnd.jupyter.widget-view+json": {
       "model_id": "a0cd0b477b954f63869ac421cc013b8a",
       "version_major": 2,
       "version_minor": 0
      },
      "text/html": [
       "<p>Failed to display Jupyter Widget of type <code>HBox</code>.</p>\n",
       "<p>\n",
       "  If you're reading this message in the Jupyter Notebook or JupyterLab Notebook, it may mean\n",
       "  that the widgets JavaScript is still loading. If this message persists, it\n",
       "  likely means that the widgets JavaScript library is either not installed or\n",
       "  not enabled. See the <a href=\"https://ipywidgets.readthedocs.io/en/stable/user_install.html\">Jupyter\n",
       "  Widgets Documentation</a> for setup instructions.\n",
       "</p>\n",
       "<p>\n",
       "  If you're reading this message in another frontend (for example, a static\n",
       "  rendering on GitHub or <a href=\"https://nbviewer.jupyter.org/\">NBViewer</a>),\n",
       "  it may mean that your frontend doesn't currently support widgets.\n",
       "</p>\n"
      ],
      "text/plain": [
       "HBox(children=(IntProgress(value=0, description='Epoch', max=1), HTML(value='')))"
      ]
     },
     "metadata": {},
     "output_type": "display_data"
    },
    {
     "name": "stdout",
     "output_type": "stream",
     "text": [
      " 83%|████████▎ | 117/141 [04:57<01:00,  2.54s/it, loss=0.636]"
     ]
    }
   ],
   "source": [
    "lrf=learn.lr_find()"
   ]
  },
  {
   "cell_type": "code",
   "execution_count": 11,
   "metadata": {},
   "outputs": [
    {
     "data": {
      "image/png": "[encoded data removed]",
      "text/plain": [
       "<matplotlib.figure.Figure at 0x7fe9c5deff60>"
      ]
     },
     "metadata": {},
     "output_type": "display_data"
    }
   ],
   "source": [
    "learn.sched.plot()\n",
    "plt.axvline(x=5e-2, color=\"red\");"
   ]
  },
  {
   "cell_type": "code",
   "execution_count": null,
   "metadata": {},
   "outputs": [],
   "source": []
  },
  {
   "cell_type": "code",
   "execution_count": null,
   "metadata": {},
   "outputs": [],
   "source": []
  },
  {
   "cell_type": "code",
   "execution_count": 19,
   "metadata": {},
   "outputs": [
    {
     "name": "stdout",
     "output_type": "stream",
     "text": [
      "CPU times: user 10min 56s, sys: 52 s, total: 11min 48s\n",
      "Wall time: 9min 51s\n"
     ]
    }
   ],
   "source": [
    "%%time\n",
    "test = learn.predict(is_test=True)"
   ]
  },
  {
   "cell_type": "code",
   "execution_count": 20,
   "metadata": {},
   "outputs": [
    {
     "data": {
      "text/html": [
       "<div>\n",
       "<style scoped>\n",
       "    .dataframe tbody tr th:only-of-type {\n",
       "        vertical-align: middle;\n",
       "    }\n",
       "\n",
       "    .dataframe tbody tr th {\n",
       "        vertical-align: top;\n",
       "    }\n",
       "\n",
       "    .dataframe thead th {\n",
       "        text-align: right;\n",
       "    }\n",
       "</style>\n",
       "<table border=\"1\" class=\"dataframe\">\n",
       "  <thead>\n",
       "    <tr style=\"text-align: right;\">\n",
       "      <th></th>\n",
       "      <th>id</th>\n",
       "      <th>affenpinscher</th>\n",
       "      <th>afghan_hound</th>\n",
       "      <th>african_hunting_dog</th>\n",
       "      <th>airedale</th>\n",
       "      <th>american_staffordshire_terrier</th>\n",
       "      <th>appenzeller</th>\n",
       "      <th>australian_terrier</th>\n",
       "      <th>basenji</th>\n",
       "      <th>basset</th>\n",
       "      <th>...</th>\n",
       "      <th>toy_poodle</th>\n",
       "      <th>toy_terrier</th>\n",
       "      <th>vizsla</th>\n",
       "      <th>walker_hound</th>\n",
       "      <th>weimaraner</th>\n",
       "      <th>welsh_springer_spaniel</th>\n",
       "      <th>west_highland_white_terrier</th>\n",
       "      <th>whippet</th>\n",
       "      <th>wire-haired_fox_terrier</th>\n",
       "      <th>yorkshire_terrier</th>\n",
       "    </tr>\n",
       "  </thead>\n",
       "  <tbody>\n",
       "    <tr>\n",
       "      <th>0</th>\n",
       "      <td>de084b830010b6107215fef5d4a75b94</td>\n",
       "      <td>1.498188e-08</td>\n",
       "      <td>5.691359e-07</td>\n",
       "      <td>5.556810e-09</td>\n",
       "      <td>8.774347e-09</td>\n",
       "      <td>1.570622e-10</td>\n",
       "      <td>2.421850e-10</td>\n",
       "      <td>4.596933e-10</td>\n",
       "      <td>2.531344e-09</td>\n",
       "      <td>4.302420e-10</td>\n",
       "      <td>...</td>\n",
       "      <td>2.496345e-11</td>\n",
       "      <td>2.399911e-10</td>\n",
       "      <td>6.376381e-10</td>\n",
       "      <td>1.110612e-09</td>\n",
       "      <td>4.896101e-09</td>\n",
       "      <td>2.086089e-10</td>\n",
       "      <td>3.552162e-09</td>\n",
       "      <td>6.459850e-08</td>\n",
       "      <td>5.217748e-10</td>\n",
       "      <td>2.329643e-10</td>\n",
       "    </tr>\n",
       "    <tr>\n",
       "      <th>1</th>\n",
       "      <td>6b423ca7020e70eb05732843c5d2bad1</td>\n",
       "      <td>2.050259e-07</td>\n",
       "      <td>6.626099e-07</td>\n",
       "      <td>6.596462e-08</td>\n",
       "      <td>7.022741e-08</td>\n",
       "      <td>2.109909e-08</td>\n",
       "      <td>2.708673e-10</td>\n",
       "      <td>2.989790e-08</td>\n",
       "      <td>4.621957e-09</td>\n",
       "      <td>1.682018e-08</td>\n",
       "      <td>...</td>\n",
       "      <td>2.906426e-09</td>\n",
       "      <td>9.207699e-10</td>\n",
       "      <td>2.438324e-09</td>\n",
       "      <td>3.935434e-09</td>\n",
       "      <td>3.468844e-09</td>\n",
       "      <td>5.480874e-09</td>\n",
       "      <td>1.578319e-06</td>\n",
       "      <td>3.570197e-08</td>\n",
       "      <td>1.305056e-07</td>\n",
       "      <td>4.516069e-09</td>\n",
       "    </tr>\n",
       "    <tr>\n",
       "      <th>2</th>\n",
       "      <td>74aa7e201e0e93e13e87b986a7d31839</td>\n",
       "      <td>7.253006e-07</td>\n",
       "      <td>3.583544e-07</td>\n",
       "      <td>6.496953e-07</td>\n",
       "      <td>7.793792e-04</td>\n",
       "      <td>6.305783e-07</td>\n",
       "      <td>1.367819e-07</td>\n",
       "      <td>2.021304e-06</td>\n",
       "      <td>7.549986e-07</td>\n",
       "      <td>7.529306e-07</td>\n",
       "      <td>...</td>\n",
       "      <td>6.863682e-07</td>\n",
       "      <td>1.216197e-06</td>\n",
       "      <td>1.487831e-06</td>\n",
       "      <td>1.000336e-06</td>\n",
       "      <td>8.580307e-07</td>\n",
       "      <td>6.426748e-06</td>\n",
       "      <td>9.354560e-07</td>\n",
       "      <td>1.724824e-06</td>\n",
       "      <td>1.908360e-01</td>\n",
       "      <td>2.345171e-07</td>\n",
       "    </tr>\n",
       "    <tr>\n",
       "      <th>3</th>\n",
       "      <td>a079f72193264bc5685e5d28d7372680</td>\n",
       "      <td>1.856343e-04</td>\n",
       "      <td>4.221398e-06</td>\n",
       "      <td>4.639063e-06</td>\n",
       "      <td>2.209497e-05</td>\n",
       "      <td>2.998622e-06</td>\n",
       "      <td>5.917287e-07</td>\n",
       "      <td>4.096538e-05</td>\n",
       "      <td>3.360444e-06</td>\n",
       "      <td>1.003612e-05</td>\n",
       "      <td>...</td>\n",
       "      <td>2.406978e-06</td>\n",
       "      <td>3.851165e-05</td>\n",
       "      <td>1.551455e-05</td>\n",
       "      <td>1.583195e-06</td>\n",
       "      <td>8.783025e-06</td>\n",
       "      <td>4.769136e-06</td>\n",
       "      <td>1.770219e-04</td>\n",
       "      <td>2.146260e-06</td>\n",
       "      <td>3.404261e-03</td>\n",
       "      <td>4.360185e-04</td>\n",
       "    </tr>\n",
       "    <tr>\n",
       "      <th>4</th>\n",
       "      <td>583f7580fa5fec1266331fcf83b76fd6</td>\n",
       "      <td>5.204971e-08</td>\n",
       "      <td>1.017557e-08</td>\n",
       "      <td>3.260995e-10</td>\n",
       "      <td>4.418895e-07</td>\n",
       "      <td>2.441284e-09</td>\n",
       "      <td>9.380896e-09</td>\n",
       "      <td>5.583793e-10</td>\n",
       "      <td>5.754496e-10</td>\n",
       "      <td>4.690352e-11</td>\n",
       "      <td>...</td>\n",
       "      <td>8.123833e-09</td>\n",
       "      <td>4.287235e-09</td>\n",
       "      <td>8.451019e-11</td>\n",
       "      <td>1.386640e-10</td>\n",
       "      <td>2.457153e-09</td>\n",
       "      <td>2.640125e-09</td>\n",
       "      <td>5.166431e-10</td>\n",
       "      <td>2.485605e-09</td>\n",
       "      <td>4.185929e-07</td>\n",
       "      <td>2.276581e-09</td>\n",
       "    </tr>\n",
       "  </tbody>\n",
       "</table>\n",
       "<p>5 rows × 121 columns</p>\n",
       "</div>"
      ],
      "text/plain": [
       "                                 id  affenpinscher  afghan_hound  \\\n",
       "0  de084b830010b6107215fef5d4a75b94   1.498188e-08  5.691359e-07   \n",
       "1  6b423ca7020e70eb05732843c5d2bad1   2.050259e-07  6.626099e-07   \n",
       "2  74aa7e201e0e93e13e87b986a7d31839   7.253006e-07  3.583544e-07   \n",
       "3  a079f72193264bc5685e5d28d7372680   1.856343e-04  4.221398e-06   \n",
       "4  583f7580fa5fec1266331fcf83b76fd6   5.204971e-08  1.017557e-08   \n",
       "\n",
       "   african_hunting_dog      airedale  american_staffordshire_terrier  \\\n",
       "0         5.556810e-09  8.774347e-09                    1.570622e-10   \n",
       "1         6.596462e-08  7.022741e-08                    2.109909e-08   \n",
       "2         6.496953e-07  7.793792e-04                    6.305783e-07   \n",
       "3         4.639063e-06  2.209497e-05                    2.998622e-06   \n",
       "4         3.260995e-10  4.418895e-07                    2.441284e-09   \n",
       "\n",
       "    appenzeller  australian_terrier       basenji        basset  \\\n",
       "0  2.421850e-10        4.596933e-10  2.531344e-09  4.302420e-10   \n",
       "1  2.708673e-10        2.989790e-08  4.621957e-09  1.682018e-08   \n",
       "2  1.367819e-07        2.021304e-06  7.549986e-07  7.529306e-07   \n",
       "3  5.917287e-07        4.096538e-05  3.360444e-06  1.003612e-05   \n",
       "4  9.380896e-09        5.583793e-10  5.754496e-10  4.690352e-11   \n",
       "\n",
       "         ...            toy_poodle   toy_terrier        vizsla  walker_hound  \\\n",
       "0        ...          2.496345e-11  2.399911e-10  6.376381e-10  1.110612e-09   \n",
       "1        ...          2.906426e-09  9.207699e-10  2.438324e-09  3.935434e-09   \n",
       "2        ...          6.863682e-07  1.216197e-06  1.487831e-06  1.000336e-06   \n",
       "3        ...          2.406978e-06  3.851165e-05  1.551455e-05  1.583195e-06   \n",
       "4        ...          8.123833e-09  4.287235e-09  8.451019e-11  1.386640e-10   \n",
       "\n",
       "     weimaraner  welsh_springer_spaniel  west_highland_white_terrier  \\\n",
       "0  4.896101e-09            2.086089e-10                 3.552162e-09   \n",
       "1  3.468844e-09            5.480874e-09                 1.578319e-06   \n",
       "2  8.580307e-07            6.426748e-06                 9.354560e-07   \n",
       "3  8.783025e-06            4.769136e-06                 1.770219e-04   \n",
       "4  2.457153e-09            2.640125e-09                 5.166431e-10   \n",
       "\n",
       "        whippet  wire-haired_fox_terrier  yorkshire_terrier  \n",
       "0  6.459850e-08             5.217748e-10       2.329643e-10  \n",
       "1  3.570197e-08             1.305056e-07       4.516069e-09  \n",
       "2  1.724824e-06             1.908360e-01       2.345171e-07  \n",
       "3  2.146260e-06             3.404261e-03       4.360185e-04  \n",
       "4  2.485605e-09             4.185929e-07       2.276581e-09  \n",
       "\n",
       "[5 rows x 121 columns]"
      ]
     },
     "execution_count": 20,
     "metadata": {},
     "output_type": "execute_result"
    }
   ],
   "source": [
    "columns = pd.read_csv(f'{PATH}sample_submission.csv', index_col='id').columns\n",
    "test = pd.DataFrame(np.exp(test))\n",
    "test.columns = columns\n",
    "test.index = [i.split('.jpg')[0].split('/')[-1] for i in data.test_dl.dataset.fnames]\n",
    "test.index.name ='id'\n",
    "test.to_csv(f'{PATH}submission4.csv')\n",
    "pd.read_csv(f'{PATH}submission4.csv').head()"
   ]
  },
  {
   "cell_type": "code",
   "execution_count": null,
   "metadata": {},
   "outputs": [],
   "source": []
  },
  {
   "cell_type": "code",
   "execution_count": null,
   "metadata": {},
   "outputs": [],
   "source": []
  }
 ],
 "metadata": {
  "kernelspec": {
   "display_name": "Python 3",
   "language": "python",
   "name": "python3"
  },
  "language_info": {
   "codemirror_mode": {
    "name": "ipython",
    "version": 3
   },
   "file_extension": ".py",
   "mimetype": "text/x-python",
   "name": "python",
   "nbconvert_exporter": "python",
   "pygments_lexer": "ipython3",
   "version": "3.6.4"
  },
  "toc": {
   "nav_menu": {},
   "number_sections": true,
   "sideBar": true,
   "skip_h1_title": false,
   "title_cell": "Table of Contents",
   "title_sidebar": "Contents",
   "toc_cell": false,
   "toc_position": {},
   "toc_section_display": true,
   "toc_window_display": false
  }
 },
 "nbformat": 4,
 "nbformat_minor": 2
}
